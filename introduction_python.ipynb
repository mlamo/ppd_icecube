{
 "cells": [
  {
   "cell_type": "code",
   "execution_count": null,
   "metadata": {},
   "outputs": [],
   "source": [
    "from fonctions import cos, sin\n",
    "from numpy import power, array, count_nonzero, random"
   ]
  },
  {
   "cell_type": "markdown",
   "metadata": {},
   "source": [
    "## Naviguer dans un \"notebook\"\n",
    "\n",
    "- Le code est organisé en \"cellules\" qui s'éxécutent indépendamment.\n",
    "- Les flèches haut/bas ou la souris permettent de passer d'une cellule.\n",
    "- Pour \"lancer\" une cellule, il suffit d'avoir cliqué sur celle-ci et de faire \"Maj+Entrée\". \n",
    "- Pour rajouter une cellule, il faut cliquer sur le `+` en haut à gauche de la fenêtre."
   ]
  },
  {
   "cell_type": "markdown",
   "metadata": {},
   "source": [
    "## Code et commentaires\n",
    "\n",
    "Par défaut, toutes les nouvelles cellules sont du code. Mais il est également possible d'écrire des commentaires qui sont ignorés lors de l'éxécution en ajoutant un `#` au début de la ligne."
   ]
  },
  {
   "cell_type": "code",
   "execution_count": null,
   "metadata": {},
   "outputs": [],
   "source": [
    "print(\"Ceci est un morceau de code.\")\n",
    "# Ceci est un commentaire ignoré\n",
    "#print(\"Ceci est un morceau de code auquel on a rajouté # et qui est donc ignoré.\")"
   ]
  },
  {
   "cell_type": "markdown",
   "metadata": {},
   "source": [
    "## Opérations élémentaires"
   ]
  },
  {
   "cell_type": "code",
   "execution_count": null,
   "metadata": {},
   "outputs": [],
   "source": [
    "# addition\n",
    "1+3"
   ]
  },
  {
   "cell_type": "code",
   "execution_count": null,
   "metadata": {},
   "outputs": [],
   "source": [
    "# multiplication\n",
    "6*7"
   ]
  },
  {
   "cell_type": "code",
   "execution_count": null,
   "metadata": {},
   "outputs": [],
   "source": [
    "# division\n",
    "8/5"
   ]
  },
  {
   "cell_type": "code",
   "execution_count": null,
   "metadata": {},
   "outputs": [],
   "source": [
    "# puissance\n",
    "2**3"
   ]
  },
  {
   "cell_type": "markdown",
   "metadata": {},
   "source": [
    "## Définitions de variables"
   ]
  },
  {
   "cell_type": "code",
   "execution_count": null,
   "metadata": {},
   "outputs": [],
   "source": [
    "# définition d'une variable de type \"nombre\"\n",
    "x = 3.2"
   ]
  },
  {
   "cell_type": "code",
   "execution_count": null,
   "metadata": {},
   "outputs": [],
   "source": [
    "# on peut alors faire des opérations\n",
    "x+2"
   ]
  },
  {
   "cell_type": "code",
   "execution_count": null,
   "metadata": {},
   "outputs": [],
   "source": [
    "# définition d'une variable de type \"chaine de caractères\"\n",
    "y = \"Bonjour\""
   ]
  },
  {
   "cell_type": "code",
   "execution_count": null,
   "metadata": {},
   "outputs": [],
   "source": [
    "# on ne peut pas sommer une chaine de caractères et un nombre mais on peut \"sommer deux chaines\"\n",
    "y + \" Neutrino\""
   ]
  },
  {
   "cell_type": "code",
   "execution_count": null,
   "metadata": {},
   "outputs": [],
   "source": [
    "# il faut faire attention aux types des variables utlisées\n",
    "a = 2\n",
    "b = \"5\"\n",
    "a + b  # quel est le problème ? comment le corriger ?"
   ]
  },
  {
   "cell_type": "markdown",
   "metadata": {},
   "source": [
    "## Variables \"boolénnes\"\n",
    "\n",
    "Ce sont des variables qui ne peuvent prendre que deux valeurs : \"Vrai\" (True) ou \"Faux\" (False). On peut les obtenir notamment lorsqu'on effectue des comparaisons."
   ]
  },
  {
   "cell_type": "code",
   "execution_count": null,
   "metadata": {},
   "outputs": [],
   "source": [
    "# évaluation d'une égalité avec \"==\"\n",
    "3+5 == 8"
   ]
  },
  {
   "cell_type": "code",
   "execution_count": null,
   "metadata": {},
   "outputs": [],
   "source": [
    "2+2 == 5"
   ]
  },
  {
   "cell_type": "code",
   "execution_count": null,
   "metadata": {},
   "outputs": [],
   "source": [
    "# évaluation d'une comparaison avec \"strictement supérieur à\" (\">\")\n",
    "7 > 2"
   ]
  },
  {
   "cell_type": "code",
   "execution_count": null,
   "metadata": {},
   "outputs": [],
   "source": [
    "-5 > 0"
   ]
  },
  {
   "cell_type": "code",
   "execution_count": null,
   "metadata": {},
   "outputs": [],
   "source": [
    "# on peut aussi comparer deux chaînes de caractères, cela utilise alors l'ordre du dictionnaire\n",
    "\"lapin\" < \"lièvre\""
   ]
  },
  {
   "cell_type": "code",
   "execution_count": null,
   "metadata": {},
   "outputs": [],
   "source": [
    "\"canard\" > \"ornithorynque\""
   ]
  },
  {
   "cell_type": "code",
   "execution_count": null,
   "metadata": {},
   "outputs": [],
   "source": [
    "# mais pas deux variables de type différent !\n",
    "4 > \"0\""
   ]
  },
  {
   "cell_type": "markdown",
   "metadata": {},
   "source": [
    "## Utilisation de fonctions\n",
    "\n",
    "Python a un grand nombre de fonctions utiles pour effectuer des opérations plus compliqués que des additions/multiplications..."
   ]
  },
  {
   "cell_type": "code",
   "execution_count": null,
   "metadata": {},
   "outputs": [],
   "source": [
    "# fonctions trigonomètriques\n",
    "cos(0)"
   ]
  },
  {
   "cell_type": "code",
   "execution_count": null,
   "metadata": {},
   "outputs": [],
   "source": [
    "sin(30)"
   ]
  },
  {
   "cell_type": "code",
   "execution_count": null,
   "metadata": {},
   "outputs": [],
   "source": [
    "cos(30)"
   ]
  },
  {
   "cell_type": "code",
   "execution_count": null,
   "metadata": {},
   "outputs": [],
   "source": [
    "# attention à bien fournir le type d'argument attendu !\n",
    "cos(\"10\")  # comment corriger cette ligne ?"
   ]
  },
  {
   "cell_type": "markdown",
   "metadata": {},
   "source": [
    "D'autres fonctions sont fournies dans le notebook de recherche\n",
    "Chaque fonction prend un ou plusieurs arguments\n",
    "Par exemple `power(a, b)` prend deux arguments `a` et `b` et permet de calculer \"a puissance b\" (ce qui donne le même résultat que `a**b`)."
   ]
  },
  {
   "cell_type": "code",
   "execution_count": null,
   "metadata": {},
   "outputs": [],
   "source": [
    "power(3,2)"
   ]
  },
  {
   "cell_type": "code",
   "execution_count": null,
   "metadata": {},
   "outputs": [],
   "source": [
    "3**2"
   ]
  },
  {
   "cell_type": "markdown",
   "metadata": {},
   "source": [
    "Une des fonctions les plus utiles est `print` qui permet de retourner le contenu d'une variable/quantité, alors que, sans `print`, seul la dernière entrée de la cellule est affichée. `print` peut prendre autant d'argument que nécessaire."
   ]
  },
  {
   "cell_type": "code",
   "execution_count": null,
   "metadata": {},
   "outputs": [],
   "source": [
    "5"
   ]
  },
  {
   "cell_type": "code",
   "execution_count": null,
   "metadata": {},
   "outputs": [],
   "source": [
    "print(5)"
   ]
  },
  {
   "cell_type": "code",
   "execution_count": null,
   "metadata": {},
   "outputs": [],
   "source": [
    "2\n",
    "3"
   ]
  },
  {
   "cell_type": "code",
   "execution_count": null,
   "metadata": {},
   "outputs": [],
   "source": [
    "print(2)\n",
    "print(3)"
   ]
  },
  {
   "cell_type": "code",
   "execution_count": null,
   "metadata": {},
   "outputs": [],
   "source": [
    "print(2, 3)"
   ]
  },
  {
   "cell_type": "code",
   "execution_count": null,
   "metadata": {},
   "outputs": [],
   "source": [
    "x = 5\n",
    "print(\"x =\", x, \"et 3*x =\", 3*x)"
   ]
  },
  {
   "cell_type": "markdown",
   "metadata": {},
   "source": [
    "## Définir vos propres fonctions\n",
    "\n",
    "Pour définir une fonction il suffit de respecter la syntaxe suivante:\n",
    "- première ligne: `def nom_de_ma_fonction(argument_1, argument_2, ...):`. Le nom de la fonction ne doit pas contenir que des lettres/chiffres et \"_\".\n",
    "- lignes suivantes: doivent commencer par quatre espaces (indentation) puis le code.\n",
    "- dernière ligne: même indentation et la ligne doit être `return x` où `x` est le résultat de la fonction. "
   ]
  },
  {
   "cell_type": "code",
   "execution_count": null,
   "metadata": {},
   "outputs": [],
   "source": [
    "def ma_fonction(a):\n",
    "    x = 2*a + 1\n",
    "    return x"
   ]
  },
  {
   "cell_type": "code",
   "execution_count": null,
   "metadata": {},
   "outputs": [],
   "source": [
    "# on peut alors l'utiliser la fonction comme les autres\n",
    "print(ma_fonction(3))"
   ]
  },
  {
   "cell_type": "code",
   "execution_count": null,
   "metadata": {},
   "outputs": [],
   "source": [
    "def ma_deuxieme_fonction(a, b):\n",
    "    x = a + 3*b\n",
    "    return x\n",
    "\n",
    "print(ma_deuxieme_fonction(5, 2))"
   ]
  },
  {
   "cell_type": "code",
   "execution_count": null,
   "metadata": {},
   "outputs": [],
   "source": [
    "# il faut bien fournir tous les arguments nécessaires !\n",
    "print(ma_deuxieme_fonction(6))"
   ]
  },
  {
   "cell_type": "markdown",
   "metadata": {},
   "source": [
    "# Tableaux\n",
    "\n",
    "Au lieu d'un seul nombre, une seule valeur booléenne, etc., une variable peut également en stocker plusieurs nombres. C'est ce qu'on appelle un tableau (\"array\" en anglais). Les fonctions et les opérations élémentaires appliquées à un tableau s'appliquent alors à tout son contenu en même temps."
   ]
  },
  {
   "cell_type": "code",
   "execution_count": null,
   "metadata": {},
   "outputs": [],
   "source": [
    "tableau_mots = array([\"Ceci\", \"n'est\", \"pas\", \"un\", \"neutrino\"])\n",
    "print(tableau_mots)"
   ]
  },
  {
   "cell_type": "code",
   "execution_count": null,
   "metadata": {},
   "outputs": [],
   "source": [
    "tableau_nombres = array([0, 1, 1, 2, 3, 5])\n",
    "print(tableau_nombres)"
   ]
  },
  {
   "cell_type": "code",
   "execution_count": null,
   "metadata": {},
   "outputs": [],
   "source": [
    "print(100 * tableau_nombres)"
   ]
  },
  {
   "cell_type": "code",
   "execution_count": null,
   "metadata": {},
   "outputs": [],
   "source": [
    "print(2**tableau_nombres)"
   ]
  },
  {
   "cell_type": "code",
   "execution_count": null,
   "metadata": {},
   "outputs": [],
   "source": [
    "print(tableau_nombres/2)"
   ]
  },
  {
   "cell_type": "code",
   "execution_count": null,
   "metadata": {},
   "outputs": [],
   "source": [
    "print(tableau_nombres * tableau_nombres)"
   ]
  },
  {
   "cell_type": "code",
   "execution_count": null,
   "metadata": {},
   "outputs": [],
   "source": [
    "tableau = array([1, 3, 2, 4, 6, 1, 7])\n",
    "# condition basée sur un tableau existant\n",
    "tableau_booleen = (tableau > 2)\n",
    "print(tableau_booleen)"
   ]
  },
  {
   "cell_type": "code",
   "execution_count": null,
   "metadata": {},
   "outputs": [],
   "source": [
    "# fonction utile qui compte combien d'entrées du tableau sont \"vraies\" (True)\n",
    "count_nonzero(tableau_booleen)"
   ]
  },
  {
   "cell_type": "markdown",
   "metadata": {},
   "source": [
    "## Utilisation de matplotlib"
   ]
  },
  {
   "cell_type": "code",
   "execution_count": null,
   "metadata": {},
   "outputs": [],
   "source": [
    "# importation des fonctions utiles\n",
    "import matplotlib.pyplot as plt"
   ]
  },
  {
   "cell_type": "code",
   "execution_count": null,
   "metadata": {},
   "outputs": [],
   "source": [
    "x = array([0,1,2,3,4,5,6,7,8,9,10,12])\n",
    "print(x)\n",
    "print(x**2)"
   ]
  },
  {
   "cell_type": "code",
   "execution_count": null,
   "metadata": {},
   "outputs": [],
   "source": [
    "plt.plot(x, x, color=\"orange\", linewidth=2, marker=\"x\", label=\"Droite\")  # première courbe\n",
    "plt.plot(x, x**2, color=\"teal\", linewidth=10, linestyle=\"dotted\", label=\"Parabole\")  # deuxième courbe\n",
    "plt.xlabel(\"Tension (V)\", fontsize=20)  # Label des abscisses\n",
    "plt.ylabel(\"Courant (A)\", fontsize=20)  # Label des ordonnées\n",
    "plt.text(2, 60, \"Mon texte ici\")  # Texte quelque part\n",
    "plt.grid()  # afficher une grille\n",
    "plt.legend(fontsize=18)  # afficher la légende"
   ]
  },
  {
   "cell_type": "code",
   "execution_count": null,
   "metadata": {},
   "outputs": [],
   "source": [
    "valeurs_de_dés_1 = array([1,2,2,6,4,3,5,3,2,3,4,5,2,3,1,2,4,5,6,4,3,2,4,5,4,3,4,4,5,6,1])\n",
    "valeurs_de_dés_2 = array([4,5,3,2,5,3,1,3,6,6,1,2,3,4,5,3,2,5,6,4,3,2,1,3,5,3,4,5,3,1,1])\n",
    "plt.hist(valeurs_de_dés_1, bins=6, histtype=\"bar\", color=\"teal\", label=\"Première expérience\")\n",
    "plt.hist(valeurs_de_dés_2, bins=6, histtype=\"step\", color=\"red\", linewidth=2, label=\"Seconde expérience\")\n",
    "plt.xlabel(\"Valeur du dé\")\n",
    "plt.ylabel(\"Occurence\")"
   ]
  }
 ],
 "metadata": {
  "kernelspec": {
   "display_name": "Python 3.9.12 ('base')",
   "language": "python",
   "name": "python3"
  },
  "language_info": {
   "codemirror_mode": {
    "name": "ipython",
    "version": 3
   },
   "file_extension": ".py",
   "mimetype": "text/x-python",
   "name": "python",
   "nbconvert_exporter": "python",
   "pygments_lexer": "ipython3",
   "version": "3.9.12"
  },
  "orig_nbformat": 4,
  "vscode": {
   "interpreter": {
    "hash": "8cc2702ae1f0fecc83135bdd53de551fa614bbaa590d1d0e16f9dc68b05ba085"
   }
  }
 },
 "nbformat": 4,
 "nbformat_minor": 2
}
