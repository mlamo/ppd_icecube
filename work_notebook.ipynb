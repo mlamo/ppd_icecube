{
    "cells": [
        {
            "cell_type": "code",
            "execution_count": null,
            "metadata": {
                "deletable": false,
                "editable": false,
                "trusted": true
            },
            "outputs": [],
            "source": [
                "from fonctions import *"
            ]
        },
        {
            "cell_type": "markdown",
            "metadata": {
                "deletable": false,
                "editable": false,
                "trusted": true
            },
            "source": [
                "## Fonctions à disposition\n",
                "\n",
                "### Lire les données\n",
                "La fonction `lire_donnees()` permet de récupérer toutes les données stockées dans un dossier prédéfini sur l'ordinateur. Il est possible de faire par exemple `events = lire_donnees()` pour récupérer les événements. `events` est alors ce qu'on appelle une \"base de données\" avec une ligne par neutrino et plusieurs entrées pour chaque neutrino avec leur direction, énergie, etc....\n",
                "\n",
                "On peut récupérer la liste des colonnes disponibles avec `events.columns`. Pour récupérer les valeurs d'une colonne particulière, il suffit de faire `events[\"nom de la colonne\"]`. Il est éventuellement possible de rajouter des colonnes avec `events[\"nom de la nouvelle colonne\"] = valeurs`. Enfin, il est possible de filtrer la base de données en définissant par exemple `events_apres_filtre = events[events[\"colonne pour filtrer\"] > coupure]`.\n",
                "\n",
                "### Dessiner la distribution d'une variable\n",
                "La fonction `dessiner_histogramme(fichier_de_sortie, variable, nom, couleur, nbBins, ax_min, ax_max, titre)` permet de dessiner la distribution d'une quantité donnée:\n",
                "- l'argument `fichier_de_sortie` correspond au chemin où l'image doit être sauvegardée\n",
                "- l'argument `variable` est la liste des valeurs d'une colonne, par exemple obtenue avec `events[\"nom de la colonne\"]`\n",
                "- l'argument `nom` est le nom donnée à la variable pour indiquer sur l'axe horizontal de la figure\n",
                "- l'argument `couleur` est optionnel et permet d'indiquer la couleur de la figure (par défaut bleu). Les couleurs disponibles sont indiquées ici : https://matplotlib.org/stable/_images/sphx_glr_named_colors_003.png.\n",
                "- l'argument `nbBins` est optionnel et indique le nombre de segmentation de la figure (par défaut 20)\n",
                "- les arguments `ax_min` et `ax_max` indique l'intervalle de l'axe horizontal. Si non fourni, alors les minimium/maximum de la liste fournie sont utilisés.\n",
                "- l'argument `titre` permet d'indiquer un titre en haut de la figure\n",
                "\n",
                "La fonction `dessiner_histogramme_2d(fichier_de_sortie, variable1, variable2, nom1, nom2, echelle_couleur, nbBins1, nbBins2, titre)` permet de dessiner l'histogramme en 2D avec une variable sur l'axe X et une autre variable sur l'axe Y. Celui-ci est divisé en cases rectangulaires et la couleur de chaque case indiquent le nombre d'événements dans cette case:\n",
                "- l'argument `fichier_de_sortie` correspond au chemin où l'image doit être sauvegardée\n",
                "- l'argument `variable1` est la liste des valeurs d'une première colonne, par exemple obtenue avec `events[\"nom de la colonne\"]`\n",
                "- l'argument `variable2` est la liste des valeurs d'une seconde colonne, par exemple obtenue avec `events[\"nom de la colonne\"]`\n",
                "- l'argument `nom1` est le nom donnée à la première variable pour indiquer sur l'axe horizontal de la figure\n",
                "- l'argument `nom2` est le nom donnée à la seconde variable pour indiquer sur l'axe horizontal de la figure\n",
                "- l'argument `echelle_couleur` est optionnel et permet d'indiquer l'échelle de couleur de la figure (par défaut un dégradé de bleu). Les couleurs disponibles sont indiquées ici : https://matplotlib.org/stable/_images/sphx_glr_colormaps_002.png.\n",
                "- l'argument `nbBins1` est optionnel et indique le nombre de segmentation de la figure sur le premier axe (par défaut 20)\n",
                "- l'argument `nbBins2` est optionnel et indique le nombre de segmentation de la figure sur le second axe (par défaut 20)\n",
                "- l'argument `titre` permet d'indiquer un titre en haut de la figure\n",
                "\n",
                "### Dessiner une carte du ciel\n",
                "La fonction `dessiner_carte(fichier_de_sortie, ra, dec, couleur, titre)` permet de représenter une carte du ciel avec tous les neutrinos avec un point par neutrino:\n",
                "- l'argument `fichier_de_sortie` correspond au chemin où l'image doit être sauvegardée\n",
                "- l'argument `ra` correspond à l'ascension droite des neutrinos (en degrés)\n",
                "- l'argument `dec` correspond à la déclinaison des neutrinos (en degrés)\n",
                "- l'argument `couleur` est optionnel et permet d'indiquer la couleur de la figure (par défaut bleu). Les couleurs disponibles sont indiquées ici : https://matplotlib.org/stable/_images/sphx_glr_named_colors_003.png.\n",
                "- l'argument `titre` correspond au titre de la figure indiqué au dessus de celle-ci\n",
                "\n",
                "La fonction `dessiner_carte_histogramme(fichier_de_sortie, ra, dec, echelle_couleur, titre, resolution)` permet de représenter une carte du ciel avec tous les neutrinos mais avec une densité d'événement (couleur plus intense = plus de neutrinos dans cette direction):\n",
                "- l'argument `fichier_de_sortie` correspond au chemin où l'image doit être sauvegardée\n",
                "- l'argument `ra` correspond à l'ascension droite des neutrinos (en degrés)\n",
                "- l'argument `dec` correspond à la déclinaison des neutrinos (en degrés)\n",
                "- l'argument `echelle_couleur` est optionnel et permet d'indiquer l'échelle de couleur de la figure (par défaut un dégradé de bleu). Les couleurs disponibles sont indiquées ici : https://matplotlib.org/stable/_images/sphx_glr_colormaps_002.png.\n",
                "- l'argument `titre` correspond au titre de la figure indiqué au dessus de celle-ci\n",
                "- l'argument `resolution` permet de définir la précision de la carte : 1=très basse résolution, 10=très haute résolution"
            ]
        },
        {
            "cell_type": "markdown",
            "metadata": {
                "deletable": false,
                "editable": false,
                "trusted": true
            },
            "source": [
                "## Exemples"
            ]
        },
        {
            "cell_type": "code",
            "execution_count": null,
            "metadata": {},
            "outputs": [],
            "source": [
                "# lecture des données\n",
                "events = lire_donnees()"
            ]
        },
        {
            "cell_type": "code",
            "execution_count": null,
            "metadata": {},
            "outputs": [],
            "source": [
                "# lister les colonnes\n",
                "events.columns"
            ]
        },
        {
            "cell_type": "code",
            "execution_count": null,
            "metadata": {},
            "outputs": [],
            "source": [
                "# voir un aperçu de toutes les données\n",
                "events"
            ]
        },
        {
            "cell_type": "code",
            "execution_count": null,
            "metadata": {},
            "outputs": [],
            "source": [
                "# voir un neutrino donné\n",
                "events.iloc[42]"
            ]
        },
        {
            "cell_type": "code",
            "execution_count": null,
            "metadata": {},
            "outputs": [],
            "source": [
                "# voir une colonne donnée\n",
                "events[\"RA[deg]\"]"
            ]
        },
        {
            "cell_type": "code",
            "execution_count": null,
            "metadata": {},
            "outputs": [],
            "source": [
                "# histogramme en ascension droite\n",
                "dessiner_histogramme(\n",
                "    fichier_de_sortie=\"exemple_histogramme_ra\",  # cela va sauver une image dans le dossier \"figures\" avec ce nom\n",
                "    variable=events[\"RA[deg]\"],  # colonne souhaitée\n",
                "    nom=\"Ascension droite [deg]\",  # nom sur l'axe des abscisses\n",
                "    couleur=\"blue\",  # couleur souhaitée\n",
                "    ax_min=0, \n",
                "    ax_max=360,\n",
                "    titre=\"Histogramme en ascension droite\"\n",
                ")"
            ]
        },
        {
            "cell_type": "code",
            "execution_count": null,
            "metadata": {},
            "outputs": [],
            "source": [
                "# mais on peut aussi le faire à la main avec matplotlib!\n",
                "plt.hist(events[\"RA[deg]\"], bins=20, histtype=\"bar\")\n",
                "plt.xlabel(\"Ascension droite [deg]\", fontsize=15)\n",
                "plt.ylabel(\"Nombre d'événements par bin\", fontsize=15)\n",
                "plt.title(\"Titre\")\n",
                "plt.savefig(\"figures/exemple_histogramme_ra_matplotlib1.png\")"
            ]
        },
        {
            "cell_type": "code",
            "execution_count": null,
            "metadata": {},
            "outputs": [],
            "source": [
                "# ou...\n",
                "plt.hist(events[\"RA[deg]\"], bins=20, histtype=\"step\")\n",
                "plt.xlabel(\"Ascension droite [deg]\", fontsize=15)\n",
                "plt.ylabel(\"Nombre d'événements par bin\", fontsize=15)\n",
                "plt.title(\"Titre\")\n",
                "plt.savefig(\"figures/exemple_histogramme_ra_matplotlib1.png\")"
            ]
        },
        {
            "cell_type": "code",
            "execution_count": null,
            "metadata": {},
            "outputs": [],
            "source": [
                "# définition d'une nouvelle colonne\n",
                "events[\"sin(Dec)\"] = sin(events[\"Dec[deg]\"])"
            ]
        },
        {
            "cell_type": "code",
            "execution_count": null,
            "metadata": {},
            "outputs": [],
            "source": [
                "# filtrer les événements\n",
                "events_haute_energie = events[events[\"log10(E/GeV)\"] > 6]"
            ]
        },
        {
            "cell_type": "code",
            "execution_count": null,
            "metadata": {},
            "outputs": [],
            "source": [
                "# dessiner une carte du ciel (un point par neutrino)\n",
                "dessiner_carte(\n",
                "    fichier_de_sortie=\"exemple_carte\",\n",
                "    ra=events_haute_energie[\"RA[deg]\"],\n",
                "    dec=events_haute_energie[\"Dec[deg]\"],\n",
                "    titre=\"Carte des neutrinos\"\n",
                ")"
            ]
        },
        {
            "cell_type": "code",
            "execution_count": null,
            "metadata": {},
            "outputs": [],
            "source": [
                "# dessiner une carte du ciel (couleur plus foncée = plus de neutrinos dans cette direction)\n",
                "dessiner_carte_histogramme(\n",
                "    fichier_de_sortie=\"exemple_carte_histogramme\",\n",
                "    ra=events_haute_energie[\"RA[deg]\"],\n",
                "    dec=events_haute_energie[\"Dec[deg]\"],\n",
                "    titre=\"Carte des neutrinos (densité)\",\n",
                "    resolution=2\n",
                ")"
            ]
        },
        {
            "cell_type": "markdown",
            "metadata": {
                "deletable": false,
                "editable": false,
                "trusted": true
            },
            "source": [
                "# À vous de jouer !!"
            ]
        },
        {
            "cell_type": "markdown",
            "metadata": {
                "deletable": false,
                "editable": false,
                "trusted": true
            },
            "source": [
                "## Exploration des données\n",
                "\n",
                "- Quelle est la distribution en déclinaison des neutrinos ? En sin(déclinaison) ? Laquelle des deux figures semble la plus pertinente ?\n",
                "- Quelle est la distribution en énergie des neutrinos (`log10(E/GeV)`) ?\n",
                "- Quelle est leur distribution sur le ciel ? Quelle méthode est préférable entre `dessiner_carte` et `dessiner_carte_histogramme` ?"
            ]
        },
        {
            "cell_type": "code",
            "execution_count": null,
            "metadata": {},
            "outputs": [],
            "source": []
        },
        {
            "cell_type": "code",
            "execution_count": null,
            "metadata": {},
            "outputs": [],
            "source": []
        },
        {
            "cell_type": "code",
            "execution_count": null,
            "metadata": {},
            "outputs": [],
            "source": []
        },
        {
            "cell_type": "code",
            "execution_count": null,
            "metadata": {},
            "outputs": [],
            "source": []
        },
        {
            "cell_type": "markdown",
            "metadata": {
                "deletable": false,
                "editable": false,
                "trusted": true
            },
            "source": [
                "## Recherche de neutrinos provenant d'une direction donnée\n",
                "\n",
                "- On souhaite étudier les neutrinos provenant d'une direction $RA_{source}$, $DEC_{source}$. Quelles variables semblent les plus adaptées ?\n",
                "- Si besoin, on peut calculer diverses quantités comme des distances angulaires, des cosinus/sinus, etc...\n",
                "- Quelle figure finale permettrait de conclure ou non à la présence de signal ?\n",
                "- Comment caractériser le bruit de fond et l'éventuel signal observé ?"
            ]
        },
        {
            "cell_type": "markdown",
            "metadata": {
                "deletable": false,
                "editable": false,
                "trusted": true
            },
            "source": [
                "On veut tester la position $RA_{source} = 219.9°$, $Dec_{source} = 60.8°$"
            ]
        },
        {
            "cell_type": "code",
            "execution_count": null,
            "metadata": {},
            "outputs": [],
            "source": []
        },
        {
            "cell_type": "code",
            "execution_count": null,
            "metadata": {},
            "outputs": [],
            "source": []
        },
        {
            "cell_type": "code",
            "execution_count": null,
            "metadata": {},
            "outputs": [],
            "source": []
        },
        {
            "cell_type": "markdown",
            "metadata": {},
            "source": [
                "## Étude de plusieurs sources astrophysiques potentielles\n",
                "\n",
                "- Répétons maintenant la même procédure pour un catalogue de sources astrophysiques intéressantes.\n",
                "- Y-a-t-il des excès intéressants parmis ces sources ?"
            ]
        },
        {
            "cell_type": "code",
            "execution_count": null,
            "metadata": {},
            "outputs": [],
            "source": [
                "# charger la liste des sources\n",
                "sources = liste_sources(groupe=\"Dr. Strangepork\")"
            ]
        },
        {
            "cell_type": "code",
            "execution_count": null,
            "metadata": {},
            "outputs": [],
            "source": [
                "# accéder aux sources une par une\n",
                "print(sources[0])\n",
                "print(sources[5][\"Nom\"], sources[5][\"RA(source)\"], sources[5][\"Dec(source)\"])"
            ]
        },
        {
            "cell_type": "code",
            "execution_count": null,
            "metadata": {},
            "outputs": [],
            "source": [
                "# faire une boucle sur les sources\n",
                "for source in sources:\n",
                "    print(\"Pour la source \" + source[\"Nom\"] + \" :\")\n",
                "    print(\"  RA  =\", source[\"RA(source)\"])\n",
                "    print(\"  Dec =\", source[\"Dec(source)\"])\n",
                "    # et on peut faire d'autres opérations ici, comme calculé l'excès observé"
            ]
        },
        {
            "cell_type": "code",
            "execution_count": null,
            "metadata": {},
            "outputs": [],
            "source": []
        },
        {
            "cell_type": "code",
            "execution_count": null,
            "metadata": {},
            "outputs": [],
            "source": []
        },
        {
            "cell_type": "code",
            "execution_count": null,
            "metadata": {},
            "outputs": [],
            "source": []
        }
    ],
    "metadata": {
        "kernelspec": {
            "display_name": "Python 3.9.12 ('base')",
            "language": "python",
            "name": "python3"
        },
        "language_info": {
            "codemirror_mode": {
                "name": "ipython",
                "version": 3
            },
            "file_extension": ".py",
            "mimetype": "text/x-python",
            "name": "python",
            "nbconvert_exporter": "python",
            "pygments_lexer": "ipython3",
            "version": "3.9.12"
        },
        "orig_nbformat": 4,
        "vscode": {
            "interpreter": {
                "hash": "8cc2702ae1f0fecc83135bdd53de551fa614bbaa590d1d0e16f9dc68b05ba085"
            }
        }
    },
    "nbformat": 4,
    "nbformat_minor": 2
}
